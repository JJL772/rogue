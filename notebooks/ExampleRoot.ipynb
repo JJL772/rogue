{
 "cells": [
  {
   "cell_type": "markdown",
   "id": "4ab9c393",
   "metadata": {},
   "source": [
    "Here we first start a server fro the ExampleRoot class. \n",
    "We use a multiprocess to allow this to run in the background."
   ]
  },
  {
   "cell_type": "code",
   "execution_count": 1,
   "id": "aff0a06c",
   "metadata": {},
   "outputs": [
    {
     "name": "stdout",
     "output_type": "stream",
     "text": [
      "Start: Started zmqServer on ports 9099-9101\n",
      "    To start a gui: python -m pyrogue gui --server='localhost:9099'\n",
      "    To use a virtual client: client = pyrogue.interfaces.VirtualClient(addr='localhost', port=9099)\n",
      "Running. Hit cntrl-c or send SIGTERM to 33811 to exit.\n"
     ]
    }
   ],
   "source": [
    "import pyrogue.examples\n",
    "import multiprocessing\n",
    "import os\n",
    "import pyrogue.interfaces\n",
    "\n",
    "def run_server():\n",
    "\n",
    "    with pyrogue.examples.ExampleRoot(epics3En=False, epics4En=False):\n",
    "        pyrogue.waitCntrlC()\n",
    "    \n",
    "multiprocessing.Process(target=run_server).start()"
   ]
  },
  {
   "cell_type": "markdown",
   "id": "8500ca79",
   "metadata": {},
   "source": [
    "Here we start the GUI using a system call, please make sure the port number matches as noted above."
   ]
  },
  {
   "cell_type": "code",
   "execution_count": 2,
   "id": "3b810e6c",
   "metadata": {
    "scrolled": false
   },
   "outputs": [
    {
     "data": {
      "text/plain": [
       "0"
      ]
     },
     "execution_count": 2,
     "metadata": {},
     "output_type": "execute_result"
    }
   ],
   "source": [
    "os.system(\"python -m pyrogue gui --server='localhost:9099' &\")"
   ]
  },
  {
   "cell_type": "markdown",
   "id": "2a301a62",
   "metadata": {},
   "source": [
    "We can now interact with the running server using a virtual client. Again please note the port number from above."
   ]
  },
  {
   "cell_type": "code",
   "execution_count": 2,
   "id": "0d52d2f5",
   "metadata": {},
   "outputs": [
    {
     "name": "stdout",
     "output_type": "stream",
     "text": [
      "Connected to ExampleRoot at localhost:9099\n"
     ]
    },
    {
     "data": {
      "text/plain": [
       "'2022-03-14 23:53:21 PDT'"
      ]
     },
     "execution_count": 2,
     "metadata": {},
     "output_type": "execute_result"
    }
   ],
   "source": [
    "client = pyrogue.interfaces.VirtualClient(addr='localhost', port=9099)\n",
    "root = client.root\n",
    "\n",
    "root.LocalTime.get()"
   ]
  },
  {
   "cell_type": "markdown",
   "id": "b72e01e3",
   "metadata": {},
   "source": [
    "Now we get a plot create in the Rogue server."
   ]
  },
  {
   "cell_type": "code",
   "execution_count": 11,
   "id": "ad22aab3",
   "metadata": {
    "scrolled": true
   },
   "outputs": [
    {
     "data": {
      "image/png": "[encoded data removed]",
      "text/html": [
       "\n",
       "\n",
       "<style>\n",
       "\n",
       "</style>\n",
       "\n",
       "<div id=\"fig_el337811404719661783208607771880\"></div>\n",
       "<script>\n",
       "function mpld3_load_lib(url, callback){\n",
       "  var s = document.createElement('script');\n",
       "  s.src = url;\n",
       "  s.async = true;\n",
       "  s.onreadystatechange = s.onload = callback;\n",
       "  s.onerror = function(){console.warn(\"failed to load library \" + url);};\n",
       "  document.getElementsByTagName(\"head\")[0].appendChild(s);\n",
       "}\n",
       "\n",
       "if(typeof(mpld3) !== \"undefined\" && mpld3._mpld3IsLoaded){\n",
       "   // already loaded: just create the figure\n",
       "   !function(mpld3){\n",
       "       \n",
       "       mpld3.draw_figure(\"fig_el337811404719661783208607771880\", {\"width\": 432.0, \"height\": 288.0, \"axes\": [{\"bbox\": [0.125, 0.125, 0.775, 0.755], \"xlim\": [-9.65, 202.65], \"ylim\": [-1.1, 1.1], \"xdomain\": [-9.65, 202.65], \"ydomain\": [-1.1, 1.1], \"xscale\": \"linear\", \"yscale\": \"linear\", \"axes\": [{\"position\": \"bottom\", \"nticks\": 11, \"tickvalues\": null, \"tickformat_formatter\": \"\", \"tickformat\": null, \"scale\": \"linear\", \"fontsize\": 10.0, \"grid\": {\"gridOn\": false}, \"visible\": true}, {\"position\": \"left\", \"nticks\": 11, \"tickvalues\": null, \"tickformat_formatter\": \"\", \"tickformat\": null, \"scale\": \"linear\", \"fontsize\": 10.0, \"grid\": {\"gridOn\": false}, \"visible\": true}], \"axesbg\": \"#FFFFFF\", \"axesbgalpha\": null, \"zoomable\": true, \"id\": \"el33781140471965218560\", \"lines\": [{\"data\": \"data01\", \"xindex\": 0, \"yindex\": 1, \"coordinates\": \"data\", \"id\": \"el33781140471962861232\", \"color\": \"#1F77B4\", \"linewidth\": 1.5, \"dasharray\": \"none\", \"alpha\": 1, \"zorder\": 2, \"drawstyle\": \"default\"}], \"paths\": [], \"markers\": [], \"texts\": [], \"collections\": [], \"images\": [], \"sharex\": [], \"sharey\": []}], \"data\": {\"data01\": [[0.0, 0.0], [1.0, 0.0], [2.0, 0.0], [3.0, 0.0], [4.0, 0.0], [5.0, 0.0], [6.0, 0.0], [7.0, 0.0], [8.0, 0.0], [9.0, 0.0], [10.0, 0.0], [11.0, 0.0], [12.0, 0.0], [13.0, 0.0], [14.0, 0.0], [15.0, 0.0], [16.0, 0.0], [17.0, 0.0], [18.0, 0.0], [19.0, 0.0], [20.0, 0.0], [21.0, 0.0], [22.0, 0.0], [23.0, 0.0], [24.0, 0.0], [25.0, 0.0], [26.0, 0.0], [27.0, 0.0], [28.0, 0.0], [29.0, 0.0], [30.0, 0.0], [31.0, 0.0], [32.0, 0.0], [33.0, 0.0], [34.0, 0.0], [35.0, 0.0], [36.0, 0.0], [37.0, 0.0], [38.0, 0.0], [39.0, 0.0], [40.0, 0.0], [41.0, 0.0], [42.0, 0.0], [43.0, 0.0], [44.0, 0.0], [45.0, 0.0], [46.0, 0.0], [47.0, 0.0], [48.0, 0.0], [49.0, 0.0], [50.0, 0.0], [51.0, 0.0], [52.0, 0.0], [53.0, 0.0], [54.0, 0.0], [55.0, 0.0], [56.0, 0.0], [57.0, 0.0], [58.0, 0.0], [59.0, 0.0], [60.0, 0.0], [61.0, 0.0], [62.0, 0.0], [63.0, 0.0], [64.0, 0.0], [65.0, 0.0], [66.0, 0.0], [67.0, 0.0], [68.0, 0.0], [69.0, 0.0], [70.0, 0.0], [71.0, 0.0], [72.0, 0.0], [73.0, 0.0], [74.0, 0.0], [75.0, 0.0], [76.0, 0.0], [77.0, 0.0], [78.0, 0.0], [79.0, 0.0], [80.0, 0.0], [81.0, 0.0], [82.0, 0.0], [83.0, 0.0], [84.0, 0.0], [85.0, 0.0], [86.0, 0.0], [87.0, 0.0], [88.0, 0.0], [89.0, 0.0], [90.0, 0.0], [91.0, 0.0], [92.0, 0.0], [93.0, 0.0], [94.0, 0.0], [95.0, 0.0], [96.0, 0.0], [97.0, 0.0], [98.0, 0.0], [99.0, 0.0], [100.0, 0.0], [101.0, 0.06279051952931337], [102.0, 0.12533323356430426], [103.0, 0.1873813145857246], [104.0, 0.2486898871648548], [105.0, 0.3090169943749474], [106.0, 0.3681245526846779], [107.0, 0.42577929156507266], [108.0, 0.4817536741017153], [109.0, 0.5358267949789967], [110.0, 0.5877852522924731], [111.0, 0.6374239897486896], [112.0, 0.6845471059286886], [113.0, 0.7289686274214116], [114.0, 0.7705132427757893], [115.0, 0.8090169943749473], [116.0, 0.8443279255020151], [117.0, 0.8763066800438637], [118.0, 0.9048270524660196], [119.0, 0.9297764858882513], [120.0, 0.9510565162951535], [121.0, 0.9685831611286311], [122.0, 0.9822872507286886], [123.0, 0.9921147013144778], [124.0, 0.9980267284282716], [125.0, 1.0], [126.0, 0.9980267284282716], [127.0, 0.9921147013144779], [128.0, 0.9822872507286887], [129.0, 0.9685831611286311], [130.0, 0.9510565162951536], [131.0, 0.9297764858882515], [132.0, 0.9048270524660195], [133.0, 0.8763066800438635], [134.0, 0.844327925502015], [135.0, 0.8090169943749475], [136.0, 0.7705132427757893], [137.0, 0.7289686274214114], [138.0, 0.6845471059286888], [139.0, 0.6374239897486899], [140.0, 0.5877852522924732], [141.0, 0.535826794978997], [142.0, 0.4817536741017152], [143.0, 0.4257792915650729], [144.0, 0.36812455268467814], [145.0, 0.3090169943749475], [146.0, 0.24868988716485524], [147.0, 0.18738131458572457], [148.0, 0.12533323356430454], [149.0, 0.06279051952931358], [150.0, 1.2246467991473532e-16], [151.0, -0.06279051952931335], [152.0, -0.12533323356430429], [153.0, -0.18738131458572477], [154.0, -0.24868988716485457], [155.0, -0.3090169943749473], [156.0, -0.3681245526846779], [157.0, -0.42577929156507227], [158.0, -0.4817536741017154], [159.0, -0.5358267949789964], [160.0, -0.5877852522924727], [161.0, -0.6374239897486896], [162.0, -0.6845471059286884], [163.0, -0.7289686274214116], [164.0, -0.7705132427757894], [165.0, -0.8090169943749473], [166.0, -0.8443279255020153], [167.0, -0.8763066800438636], [168.0, -0.9048270524660198], [169.0, -0.9297764858882515], [170.0, -0.9510565162951535], [171.0, -0.9685831611286312], [172.0, -0.9822872507286887], [173.0, -0.9921147013144778], [174.0, -0.9980267284282716], [175.0, -1.0], [176.0, -0.9980267284282716], [177.0, -0.9921147013144779], [178.0, -0.9822872507286887], [179.0, -0.9685831611286311], [180.0, -0.9510565162951536], [181.0, -0.9297764858882516], [182.0, -0.9048270524660199], [183.0, -0.8763066800438634], [184.0, -0.844327925502015], [185.0, -0.8090169943749476], [186.0, -0.7705132427757896], [187.0, -0.7289686274214121], [188.0, -0.684547105928689], [189.0, -0.6374239897486896], [190.0, -0.5877852522924734], [191.0, -0.5358267949789971], [192.0, -0.4817536741017161], [193.0, -0.425779291565073]]}, \"id\": \"el33781140471966178320\", \"plugins\": [{\"type\": \"reset\"}, {\"type\": \"zoom\", \"button\": true, \"enabled\": false}, {\"type\": \"boxzoom\", \"button\": true, \"enabled\": false}]});\n",
       "   }(mpld3);\n",
       "}else if(typeof define === \"function\" && define.amd){\n",
       "   // require.js is available: use it to load d3/mpld3\n",
       "   require.config({paths: {d3: \"https://d3js.org/d3.v5\"}});\n",
       "   require([\"d3\"], function(d3){\n",
       "      window.d3 = d3;\n",
       "      mpld3_load_lib(\"https://mpld3.github.io/js/mpld3.v0.5.7.js\", function(){\n",
       "         \n",
       "         mpld3.draw_figure(\"fig_el337811404719661783208607771880\", {\"width\": 432.0, \"height\": 288.0, \"axes\": [{\"bbox\": [0.125, 0.125, 0.775, 0.755], \"xlim\": [-9.65, 202.65], \"ylim\": [-1.1, 1.1], \"xdomain\": [-9.65, 202.65], \"ydomain\": [-1.1, 1.1], \"xscale\": \"linear\", \"yscale\": \"linear\", \"axes\": [{\"position\": \"bottom\", \"nticks\": 11, \"tickvalues\": null, \"tickformat_formatter\": \"\", \"tickformat\": null, \"scale\": \"linear\", \"fontsize\": 10.0, \"grid\": {\"gridOn\": false}, \"visible\": true}, {\"position\": \"left\", \"nticks\": 11, \"tickvalues\": null, \"tickformat_formatter\": \"\", \"tickformat\": null, \"scale\": \"linear\", \"fontsize\": 10.0, \"grid\": {\"gridOn\": false}, \"visible\": true}], \"axesbg\": \"#FFFFFF\", \"axesbgalpha\": null, \"zoomable\": true, \"id\": \"el33781140471965218560\", \"lines\": [{\"data\": \"data01\", \"xindex\": 0, \"yindex\": 1, \"coordinates\": \"data\", \"id\": \"el33781140471962861232\", \"color\": \"#1F77B4\", \"linewidth\": 1.5, \"dasharray\": \"none\", \"alpha\": 1, \"zorder\": 2, \"drawstyle\": \"default\"}], \"paths\": [], \"markers\": [], \"texts\": [], \"collections\": [], \"images\": [], \"sharex\": [], \"sharey\": []}], \"data\": {\"data01\": [[0.0, 0.0], [1.0, 0.0], [2.0, 0.0], [3.0, 0.0], [4.0, 0.0], [5.0, 0.0], [6.0, 0.0], [7.0, 0.0], [8.0, 0.0], [9.0, 0.0], [10.0, 0.0], [11.0, 0.0], [12.0, 0.0], [13.0, 0.0], [14.0, 0.0], [15.0, 0.0], [16.0, 0.0], [17.0, 0.0], [18.0, 0.0], [19.0, 0.0], [20.0, 0.0], [21.0, 0.0], [22.0, 0.0], [23.0, 0.0], [24.0, 0.0], [25.0, 0.0], [26.0, 0.0], [27.0, 0.0], [28.0, 0.0], [29.0, 0.0], [30.0, 0.0], [31.0, 0.0], [32.0, 0.0], [33.0, 0.0], [34.0, 0.0], [35.0, 0.0], [36.0, 0.0], [37.0, 0.0], [38.0, 0.0], [39.0, 0.0], [40.0, 0.0], [41.0, 0.0], [42.0, 0.0], [43.0, 0.0], [44.0, 0.0], [45.0, 0.0], [46.0, 0.0], [47.0, 0.0], [48.0, 0.0], [49.0, 0.0], [50.0, 0.0], [51.0, 0.0], [52.0, 0.0], [53.0, 0.0], [54.0, 0.0], [55.0, 0.0], [56.0, 0.0], [57.0, 0.0], [58.0, 0.0], [59.0, 0.0], [60.0, 0.0], [61.0, 0.0], [62.0, 0.0], [63.0, 0.0], [64.0, 0.0], [65.0, 0.0], [66.0, 0.0], [67.0, 0.0], [68.0, 0.0], [69.0, 0.0], [70.0, 0.0], [71.0, 0.0], [72.0, 0.0], [73.0, 0.0], [74.0, 0.0], [75.0, 0.0], [76.0, 0.0], [77.0, 0.0], [78.0, 0.0], [79.0, 0.0], [80.0, 0.0], [81.0, 0.0], [82.0, 0.0], [83.0, 0.0], [84.0, 0.0], [85.0, 0.0], [86.0, 0.0], [87.0, 0.0], [88.0, 0.0], [89.0, 0.0], [90.0, 0.0], [91.0, 0.0], [92.0, 0.0], [93.0, 0.0], [94.0, 0.0], [95.0, 0.0], [96.0, 0.0], [97.0, 0.0], [98.0, 0.0], [99.0, 0.0], [100.0, 0.0], [101.0, 0.06279051952931337], [102.0, 0.12533323356430426], [103.0, 0.1873813145857246], [104.0, 0.2486898871648548], [105.0, 0.3090169943749474], [106.0, 0.3681245526846779], [107.0, 0.42577929156507266], [108.0, 0.4817536741017153], [109.0, 0.5358267949789967], [110.0, 0.5877852522924731], [111.0, 0.6374239897486896], [112.0, 0.6845471059286886], [113.0, 0.7289686274214116], [114.0, 0.7705132427757893], [115.0, 0.8090169943749473], [116.0, 0.8443279255020151], [117.0, 0.8763066800438637], [118.0, 0.9048270524660196], [119.0, 0.9297764858882513], [120.0, 0.9510565162951535], [121.0, 0.9685831611286311], [122.0, 0.9822872507286886], [123.0, 0.9921147013144778], [124.0, 0.9980267284282716], [125.0, 1.0], [126.0, 0.9980267284282716], [127.0, 0.9921147013144779], [128.0, 0.9822872507286887], [129.0, 0.9685831611286311], [130.0, 0.9510565162951536], [131.0, 0.9297764858882515], [132.0, 0.9048270524660195], [133.0, 0.8763066800438635], [134.0, 0.844327925502015], [135.0, 0.8090169943749475], [136.0, 0.7705132427757893], [137.0, 0.7289686274214114], [138.0, 0.6845471059286888], [139.0, 0.6374239897486899], [140.0, 0.5877852522924732], [141.0, 0.535826794978997], [142.0, 0.4817536741017152], [143.0, 0.4257792915650729], [144.0, 0.36812455268467814], [145.0, 0.3090169943749475], [146.0, 0.24868988716485524], [147.0, 0.18738131458572457], [148.0, 0.12533323356430454], [149.0, 0.06279051952931358], [150.0, 1.2246467991473532e-16], [151.0, -0.06279051952931335], [152.0, -0.12533323356430429], [153.0, -0.18738131458572477], [154.0, -0.24868988716485457], [155.0, -0.3090169943749473], [156.0, -0.3681245526846779], [157.0, -0.42577929156507227], [158.0, -0.4817536741017154], [159.0, -0.5358267949789964], [160.0, -0.5877852522924727], [161.0, -0.6374239897486896], [162.0, -0.6845471059286884], [163.0, -0.7289686274214116], [164.0, -0.7705132427757894], [165.0, -0.8090169943749473], [166.0, -0.8443279255020153], [167.0, -0.8763066800438636], [168.0, -0.9048270524660198], [169.0, -0.9297764858882515], [170.0, -0.9510565162951535], [171.0, -0.9685831611286312], [172.0, -0.9822872507286887], [173.0, -0.9921147013144778], [174.0, -0.9980267284282716], [175.0, -1.0], [176.0, -0.9980267284282716], [177.0, -0.9921147013144779], [178.0, -0.9822872507286887], [179.0, -0.9685831611286311], [180.0, -0.9510565162951536], [181.0, -0.9297764858882516], [182.0, -0.9048270524660199], [183.0, -0.8763066800438634], [184.0, -0.844327925502015], [185.0, -0.8090169943749476], [186.0, -0.7705132427757896], [187.0, -0.7289686274214121], [188.0, -0.684547105928689], [189.0, -0.6374239897486896], [190.0, -0.5877852522924734], [191.0, -0.5358267949789971], [192.0, -0.4817536741017161], [193.0, -0.425779291565073]]}, \"id\": \"el33781140471966178320\", \"plugins\": [{\"type\": \"reset\"}, {\"type\": \"zoom\", \"button\": true, \"enabled\": false}, {\"type\": \"boxzoom\", \"button\": true, \"enabled\": false}]});\n",
       "      });\n",
       "    });\n",
       "}else{\n",
       "    // require.js not available: dynamically load d3 & mpld3\n",
       "    mpld3_load_lib(\"https://d3js.org/d3.v5.js\", function(){\n",
       "         mpld3_load_lib(\"https://mpld3.github.io/js/mpld3.v0.5.7.js\", function(){\n",
       "                 \n",
       "                 mpld3.draw_figure(\"fig_el337811404719661783208607771880\", {\"width\": 432.0, \"height\": 288.0, \"axes\": [{\"bbox\": [0.125, 0.125, 0.775, 0.755], \"xlim\": [-9.65, 202.65], \"ylim\": [-1.1, 1.1], \"xdomain\": [-9.65, 202.65], \"ydomain\": [-1.1, 1.1], \"xscale\": \"linear\", \"yscale\": \"linear\", \"axes\": [{\"position\": \"bottom\", \"nticks\": 11, \"tickvalues\": null, \"tickformat_formatter\": \"\", \"tickformat\": null, \"scale\": \"linear\", \"fontsize\": 10.0, \"grid\": {\"gridOn\": false}, \"visible\": true}, {\"position\": \"left\", \"nticks\": 11, \"tickvalues\": null, \"tickformat_formatter\": \"\", \"tickformat\": null, \"scale\": \"linear\", \"fontsize\": 10.0, \"grid\": {\"gridOn\": false}, \"visible\": true}], \"axesbg\": \"#FFFFFF\", \"axesbgalpha\": null, \"zoomable\": true, \"id\": \"el33781140471965218560\", \"lines\": [{\"data\": \"data01\", \"xindex\": 0, \"yindex\": 1, \"coordinates\": \"data\", \"id\": \"el33781140471962861232\", \"color\": \"#1F77B4\", \"linewidth\": 1.5, \"dasharray\": \"none\", \"alpha\": 1, \"zorder\": 2, \"drawstyle\": \"default\"}], \"paths\": [], \"markers\": [], \"texts\": [], \"collections\": [], \"images\": [], \"sharex\": [], \"sharey\": []}], \"data\": {\"data01\": [[0.0, 0.0], [1.0, 0.0], [2.0, 0.0], [3.0, 0.0], [4.0, 0.0], [5.0, 0.0], [6.0, 0.0], [7.0, 0.0], [8.0, 0.0], [9.0, 0.0], [10.0, 0.0], [11.0, 0.0], [12.0, 0.0], [13.0, 0.0], [14.0, 0.0], [15.0, 0.0], [16.0, 0.0], [17.0, 0.0], [18.0, 0.0], [19.0, 0.0], [20.0, 0.0], [21.0, 0.0], [22.0, 0.0], [23.0, 0.0], [24.0, 0.0], [25.0, 0.0], [26.0, 0.0], [27.0, 0.0], [28.0, 0.0], [29.0, 0.0], [30.0, 0.0], [31.0, 0.0], [32.0, 0.0], [33.0, 0.0], [34.0, 0.0], [35.0, 0.0], [36.0, 0.0], [37.0, 0.0], [38.0, 0.0], [39.0, 0.0], [40.0, 0.0], [41.0, 0.0], [42.0, 0.0], [43.0, 0.0], [44.0, 0.0], [45.0, 0.0], [46.0, 0.0], [47.0, 0.0], [48.0, 0.0], [49.0, 0.0], [50.0, 0.0], [51.0, 0.0], [52.0, 0.0], [53.0, 0.0], [54.0, 0.0], [55.0, 0.0], [56.0, 0.0], [57.0, 0.0], [58.0, 0.0], [59.0, 0.0], [60.0, 0.0], [61.0, 0.0], [62.0, 0.0], [63.0, 0.0], [64.0, 0.0], [65.0, 0.0], [66.0, 0.0], [67.0, 0.0], [68.0, 0.0], [69.0, 0.0], [70.0, 0.0], [71.0, 0.0], [72.0, 0.0], [73.0, 0.0], [74.0, 0.0], [75.0, 0.0], [76.0, 0.0], [77.0, 0.0], [78.0, 0.0], [79.0, 0.0], [80.0, 0.0], [81.0, 0.0], [82.0, 0.0], [83.0, 0.0], [84.0, 0.0], [85.0, 0.0], [86.0, 0.0], [87.0, 0.0], [88.0, 0.0], [89.0, 0.0], [90.0, 0.0], [91.0, 0.0], [92.0, 0.0], [93.0, 0.0], [94.0, 0.0], [95.0, 0.0], [96.0, 0.0], [97.0, 0.0], [98.0, 0.0], [99.0, 0.0], [100.0, 0.0], [101.0, 0.06279051952931337], [102.0, 0.12533323356430426], [103.0, 0.1873813145857246], [104.0, 0.2486898871648548], [105.0, 0.3090169943749474], [106.0, 0.3681245526846779], [107.0, 0.42577929156507266], [108.0, 0.4817536741017153], [109.0, 0.5358267949789967], [110.0, 0.5877852522924731], [111.0, 0.6374239897486896], [112.0, 0.6845471059286886], [113.0, 0.7289686274214116], [114.0, 0.7705132427757893], [115.0, 0.8090169943749473], [116.0, 0.8443279255020151], [117.0, 0.8763066800438637], [118.0, 0.9048270524660196], [119.0, 0.9297764858882513], [120.0, 0.9510565162951535], [121.0, 0.9685831611286311], [122.0, 0.9822872507286886], [123.0, 0.9921147013144778], [124.0, 0.9980267284282716], [125.0, 1.0], [126.0, 0.9980267284282716], [127.0, 0.9921147013144779], [128.0, 0.9822872507286887], [129.0, 0.9685831611286311], [130.0, 0.9510565162951536], [131.0, 0.9297764858882515], [132.0, 0.9048270524660195], [133.0, 0.8763066800438635], [134.0, 0.844327925502015], [135.0, 0.8090169943749475], [136.0, 0.7705132427757893], [137.0, 0.7289686274214114], [138.0, 0.6845471059286888], [139.0, 0.6374239897486899], [140.0, 0.5877852522924732], [141.0, 0.535826794978997], [142.0, 0.4817536741017152], [143.0, 0.4257792915650729], [144.0, 0.36812455268467814], [145.0, 0.3090169943749475], [146.0, 0.24868988716485524], [147.0, 0.18738131458572457], [148.0, 0.12533323356430454], [149.0, 0.06279051952931358], [150.0, 1.2246467991473532e-16], [151.0, -0.06279051952931335], [152.0, -0.12533323356430429], [153.0, -0.18738131458572477], [154.0, -0.24868988716485457], [155.0, -0.3090169943749473], [156.0, -0.3681245526846779], [157.0, -0.42577929156507227], [158.0, -0.4817536741017154], [159.0, -0.5358267949789964], [160.0, -0.5877852522924727], [161.0, -0.6374239897486896], [162.0, -0.6845471059286884], [163.0, -0.7289686274214116], [164.0, -0.7705132427757894], [165.0, -0.8090169943749473], [166.0, -0.8443279255020153], [167.0, -0.8763066800438636], [168.0, -0.9048270524660198], [169.0, -0.9297764858882515], [170.0, -0.9510565162951535], [171.0, -0.9685831611286312], [172.0, -0.9822872507286887], [173.0, -0.9921147013144778], [174.0, -0.9980267284282716], [175.0, -1.0], [176.0, -0.9980267284282716], [177.0, -0.9921147013144779], [178.0, -0.9822872507286887], [179.0, -0.9685831611286311], [180.0, -0.9510565162951536], [181.0, -0.9297764858882516], [182.0, -0.9048270524660199], [183.0, -0.8763066800438634], [184.0, -0.844327925502015], [185.0, -0.8090169943749476], [186.0, -0.7705132427757896], [187.0, -0.7289686274214121], [188.0, -0.684547105928689], [189.0, -0.6374239897486896], [190.0, -0.5877852522924734], [191.0, -0.5358267949789971], [192.0, -0.4817536741017161], [193.0, -0.425779291565073]]}, \"id\": \"el33781140471966178320\", \"plugins\": [{\"type\": \"reset\"}, {\"type\": \"zoom\", \"button\": true, \"enabled\": false}, {\"type\": \"boxzoom\", \"button\": true, \"enabled\": false}]});\n",
       "            })\n",
       "         });\n",
       "}\n",
       "</script>"
      ],
      "text/plain": [
       "<Figure size 432x288 with 1 Axes>"
      ]
     },
     "execution_count": 11,
     "metadata": {},
     "output_type": "execute_result"
    }
   ],
   "source": [
    "import mpld3\n",
    "mpld3.enable_notebook()\n",
    "root.TestPlotFigure.get()"
   ]
  },
  {
   "cell_type": "code",
   "execution_count": null,
   "id": "e1730d87",
   "metadata": {},
   "outputs": [],
   "source": []
  }
 ],
 "metadata": {
  "kernelspec": {
   "display_name": "Python 3 (ipykernel)",
   "language": "python",
   "name": "python3"
  },
  "language_info": {
   "codemirror_mode": {
    "name": "ipython",
    "version": 3
   },
   "file_extension": ".py",
   "mimetype": "text/x-python",
   "name": "python",
   "nbconvert_exporter": "python",
   "pygments_lexer": "ipython3",
   "version": "3.9.10"
  }
 },
 "nbformat": 4,
 "nbformat_minor": 5
}
