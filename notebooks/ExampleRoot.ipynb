{
 "cells": [
  {
   "cell_type": "markdown",
   "id": "4ab9c393",
   "metadata": {},
   "source": [
    "Here we first start a server fro the ExampleRoot class. \n",
    "We use a multiprocess to allow this to run in the background."
   ]
  },
  {
   "cell_type": "code",
   "execution_count": 1,
   "id": "feebc2bb",
   "metadata": {
    "scrolled": false
   },
   "outputs": [
    {
     "name": "stdout",
     "output_type": "stream",
     "text": [
      "Start: Started zmqServer on ports 9099-9101\n",
      "    To start a gui: python -m pyrogue gui --server='localhost:9099'\n",
      "    To use a virtual client: client = pyrogue.interfaces.VirtualClient(addr='localhost', port=9099)\n",
      "Running. Hit cntrl-c or send SIGTERM to 132943 to exit.\n"
     ]
    }
   ],
   "source": [
    "import pyrogue.examples\n",
    "import multiprocessing\n",
    "import os\n",
    "import pyrogue.interfaces\n",
    "\n",
    "def run_server():\n",
    "\n",
    "    with pyrogue.examples.ExampleRoot(epics3En=False, epics4En=False):\n",
    "        pyrogue.waitCntrlC()\n",
    "    \n",
    "multiprocessing.Process(target=run_server).start()"
   ]
  },
  {
   "cell_type": "markdown",
   "id": "8500ca79",
   "metadata": {},
   "source": [
    "Here we start the GUI using a system call, please make sure the port number matches as noted above."
   ]
  },
  {
   "cell_type": "code",
   "execution_count": 2,
   "id": "3b810e6c",
   "metadata": {
    "scrolled": true
   },
   "outputs": [
    {
     "data": {
      "text/plain": [
       "0"
      ]
     },
     "execution_count": 2,
     "metadata": {},
     "output_type": "execute_result"
    }
   ],
   "source": [
    "os.system(\"python -m pyrogue gui --server='localhost:9099' &\")"
   ]
  },
  {
   "cell_type": "markdown",
   "id": "2a301a62",
   "metadata": {},
   "source": [
    "We can now interact with the running server using a virtual client. Again please note the port number from above."
   ]
  },
  {
   "cell_type": "code",
   "execution_count": 5,
   "id": "a20e60c9",
   "metadata": {
    "scrolled": true
   },
   "outputs": [
    {
     "data": {
      "text/plain": [
       "'2022-03-14 13:11:52 PDT'"
      ]
     },
     "execution_count": 5,
     "metadata": {},
     "output_type": "execute_result"
    }
   ],
   "source": [
    "\n",
    "client = pyrogue.interfaces.VirtualClient(addr='localhost', port=9099)\n",
    "root = client.root\n",
    "\n",
    "root.LocalTime.get()\n"
   ]
  },
  {
   "cell_type": "code",
   "execution_count": null,
   "id": "8aad39a1",
   "metadata": {},
   "outputs": [],
   "source": []
  }
 ],
 "metadata": {
  "kernelspec": {
   "display_name": "Python 3 (ipykernel)",
   "language": "python",
   "name": "python3"
  },
  "language_info": {
   "codemirror_mode": {
    "name": "ipython",
    "version": 3
   },
   "file_extension": ".py",
   "mimetype": "text/x-python",
   "name": "python",
   "nbconvert_exporter": "python",
   "pygments_lexer": "ipython3",
   "version": "3.9.7"
  }
 },
 "nbformat": 4,
 "nbformat_minor": 5
}
